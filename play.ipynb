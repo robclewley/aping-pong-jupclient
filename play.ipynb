{
 "cells": [
  {
   "cell_type": "code",
   "execution_count": 1,
   "metadata": {},
   "outputs": [],
   "source": [
    "from API_lib import *\n",
    "\n",
    "import time\n",
    "import sys\n",
    "import numpy as np\n",
    "from matplotlib import pyplot as plt\n",
    "from IPython.display import display\n",
    "from ipywidgets import HBox, VBox, FloatSlider\n",
    "import ipywidgets as widgets"
   ]
  },
  {
   "cell_type": "code",
   "execution_count": 2,
   "metadata": {},
   "outputs": [],
   "source": [
    "%matplotlib widget\n",
    "#ipympl\n",
    "#widget\n",
    "#plt.ion()"
   ]
  },
  {
   "cell_type": "code",
   "execution_count": 3,
   "metadata": {},
   "outputs": [],
   "source": [
    "plt.ioff()\n",
    "plt.clf()"
   ]
  },
  {
   "cell_type": "code",
   "execution_count": 4,
   "metadata": {},
   "outputs": [],
   "source": [
    "use_server_url('prod') # dev"
   ]
  },
  {
   "cell_type": "code",
   "execution_count": 5,
   "metadata": {},
   "outputs": [],
   "source": [
    "info1 = declare_player(2)\n",
    "pid1 = info1['private_id']"
   ]
  },
  {
   "cell_type": "code",
   "execution_count": 6,
   "metadata": {},
   "outputs": [
    {
     "data": {
      "text/plain": [
       "{'context': 'Save private ID for later reference; use `status` endpoint to track further progress',\n",
       " 'private_id': '7bc7e38fd4824195',\n",
       " 'status': 'Level 2 game countdown to your serve'}"
      ]
     },
     "execution_count": 6,
     "metadata": {},
     "output_type": "execute_result"
    }
   ],
   "source": [
    "info1"
   ]
  },
  {
   "cell_type": "code",
   "execution_count": 7,
   "metadata": {},
   "outputs": [],
   "source": [
    "#info2 = declare_player(1)"
   ]
  },
  {
   "cell_type": "code",
   "execution_count": 8,
   "metadata": {},
   "outputs": [],
   "source": [
    "while True:\n",
    "    time.sleep(0.3)\n",
    "    state = call('status', id_code=pid1)\n",
    "    if 't' in state and state['t'] < 0:\n",
    "        xdim = state['court width']\n",
    "        ydim = state['court length']\n",
    "        paddle_lo, paddle_hi = state['your_paddle']\n",
    "        max_dx = state['max_paddle_move']\n",
    "        ball = state['ball']\n",
    "        break"
   ]
  },
  {
   "cell_type": "code",
   "execution_count": 9,
   "metadata": {},
   "outputs": [
    {
     "data": {
      "text/plain": [
       "{'ball': [0.0177119362, -30.4951602588],\n",
       " 'court length': 60.9903205177,\n",
       " 'court width': 14.9208989717,\n",
       " 'max_paddle_move': 0.5,\n",
       " 'status': 'Level 2 game countdown to your serve',\n",
       " 't': -7.3171935081,\n",
       " 'your public ID': 'd6efd0ffa3a450eb',\n",
       " 'your_paddle': [[-0.8651208722, -30.4951602588],\n",
       "  [0.9005447445, -30.4951602588]]}"
      ]
     },
     "execution_count": 9,
     "metadata": {},
     "output_type": "execute_result"
    }
   ],
   "source": [
    "state"
   ]
  },
  {
   "cell_type": "code",
   "execution_count": 10,
   "metadata": {},
   "outputs": [],
   "source": [
    "def draw_court(ax):\n",
    "    ax.plot((-xdim/2,xdim/2), (-ydim/2,-ydim/2), 'r-', alpha=0.1);\n",
    "    ax.plot((-xdim/2,xdim/2), (ydim/2,ydim/2), 'r-', alpha=0.1);\n",
    "    ax.plot((-xdim/2,-xdim/2), (-ydim/2,ydim/2), 'r-', alpha=0.1);\n",
    "    ax.plot((xdim/2,xdim/2), (-ydim/2,ydim/2), 'r-', alpha=0.1);"
   ]
  },
  {
   "cell_type": "code",
   "execution_count": 11,
   "metadata": {},
   "outputs": [],
   "source": [
    "fig, ax = plt.subplots(figsize=(4,6))\n",
    "#plt.box(False)\n",
    "ax.autoscale(enable=False) #, tight=False)\n",
    "draw_court(ax)\n",
    "fig.tight_layout()\n",
    "ax.set_xlim(-1-xdim/2, xdim/2+1)\n",
    "ax.set_ylim(-1-ydim/2, ydim/2+1)\n",
    "ax.set_aspect('equal')\n",
    "ax.axis('off')\n",
    "plt.suptitle(\"t = 0\", y=1.)\n",
    "#txt_handle = ax.text(1,75, \"t = 0\")\n",
    "#plt.show()\n",
    "fig.canvas.draw()\n",
    "fig.canvas.flush_events()\n",
    "pA_handle = ax.plot((state['your_paddle'][0][0], state['your_paddle'][1][0]),\n",
    "                    (-ydim/2-0.2,-ydim/2-0.2), 'k-', lw=5)[0]\n",
    "if 'opp_paddle' in state:\n",
    "    pB_handle = ax.plot((state['opp_paddle'][0][0], state['opp_paddle'][1][0]),\n",
    "                    (ydim/2+0.2,ydim/2+0.2), 'k-', lw=5)[0]\n",
    "ball_handle = ax.plot(ball[0], ball[1], 'ko', ms=5)[0]\n",
    "\n",
    "buttonLL = widgets.Button(description=\"LL\")\n",
    "buttonRR = widgets.Button(description=\"RR\")\n",
    "buttonV = widgets.Button(description=\"view\")\n",
    "buttonL = widgets.Button(description=\"L\")\n",
    "buttonR = widgets.Button(description=\"R\")\n",
    "\n",
    "def moveLL(b):\n",
    "    update(call('move/{:.4f}'.format(-max_dx), pid1))\n",
    "    \n",
    "def moveRR(b):\n",
    "    update(call('move/{:.4f}'.format(max_dx), pid1))\n",
    "\n",
    "def moveL(b):\n",
    "    update(call('move/{:.4f}'.format(-max_dx/2), pid1))\n",
    "    \n",
    "def moveR(b):\n",
    "    update(call('move/{:.4f}'.format(max_dx/2), pid1))\n",
    "\n",
    "def view(b):\n",
    "    update(call('status', pid1))\n",
    "\n",
    "buttonL.on_click(moveL)\n",
    "buttonR.on_click(moveR)\n",
    "buttonLL.on_click(moveLL)\n",
    "buttonRR.on_click(moveRR)\n",
    "buttonV.on_click(view)\n",
    "\n",
    "def press(event):\n",
    "    sys.stdout.flush()\n",
    "    if event.key == 'z':\n",
    "        update(call('move/{:.4f}'.format(-max_dx), pid1))\n",
    "    elif event.key == 'x':\n",
    "        update(call('move/{:.4f}'.format(-max_dx/2), pid1))\n",
    "    elif event.key == 'c':\n",
    "        update(call('move/{:.4f}'.format(max_dx/2), pid1))\n",
    "    elif event.key == 'v':\n",
    "        update(call('move/{:.4f}'.format(max_dx), pid1))\n",
    "    elif event.key == ' ':\n",
    "        update(call('status', pid1))\n",
    "\n",
    "fig.canvas.mpl_connect('key_press_event', press)\n",
    "\n",
    "def update(s):\n",
    "    if 'won' in s['status']:\n",
    "        print(s)\n",
    "        sys.stdout.flush()\n",
    "    else:        \n",
    "        ball_handle.set_data(s['ball'][0], s['ball'][1])\n",
    "        pA_handle.set_data((s['your_paddle'][0][0], s['your_paddle'][1][0]), (-ydim/2-0.2,-ydim/2-0.2))\n",
    "        if 'opp_paddle' in s:\n",
    "            pB_handle.set_data((s['opp_paddle'][0][0], s['opp_paddle'][1][0]), (ydim/2+0.2,ydim/2+0.2))\n",
    "        #txt_handle.set_text(\"t = %.2f, (%.2f, %.2f)\" % (s['t'], s['ball'][0], s['ball'][1]))\n",
    "        plt.suptitle(\"t = %.2f, (%.2f, %.2f)\" % (s['t'], s['ball'][0], s['ball'][1]), y=1.)\n",
    "        fig.canvas.draw();\n",
    "        fig.canvas.flush_events();"
   ]
  },
  {
   "cell_type": "code",
   "execution_count": 12,
   "metadata": {},
   "outputs": [
    {
     "data": {
      "application/vnd.jupyter.widget-view+json": {
       "model_id": "94f38ccdc1d140e9bd671d67eac9cfbd",
       "version_major": 2,
       "version_minor": 0
      },
      "text/plain": [
       "VBox(children=(HBox(children=(Button(description='LL', style=ButtonStyle()), Button(description='L', style=But…"
      ]
     },
     "metadata": {},
     "output_type": "display_data"
    }
   ],
   "source": [
    "buttons = HBox([buttonLL, buttonL, buttonV, buttonR, buttonRR])\n",
    "VBox([buttons, fig.canvas])"
   ]
  },
  {
   "cell_type": "code",
   "execution_count": 13,
   "metadata": {},
   "outputs": [
    {
     "data": {
      "text/plain": [
       "{'context': 'Use `request_game` endpoint first',\n",
       " 'status': 'Player has not joined lobby'}"
      ]
     },
     "execution_count": 13,
     "metadata": {},
     "output_type": "execute_result"
    }
   ],
   "source": [
    "call('status', id_code=pid1)"
   ]
  },
  {
   "cell_type": "code",
   "execution_count": null,
   "metadata": {},
   "outputs": [],
   "source": []
  }
 ],
 "metadata": {
  "kernelspec": {
   "display_name": "Python 3",
   "language": "python",
   "name": "python3"
  },
  "language_info": {
   "codemirror_mode": {
    "name": "ipython",
    "version": 3
   },
   "file_extension": ".py",
   "mimetype": "text/x-python",
   "name": "python",
   "nbconvert_exporter": "python",
   "pygments_lexer": "ipython3",
   "version": "3.6.6"
  }
 },
 "nbformat": 4,
 "nbformat_minor": 2
}
